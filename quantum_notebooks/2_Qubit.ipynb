{
 "cells": [
  {
   "cell_type": "markdown",
   "id": "a7255aef-272d-49db-b8f2-89003ec98319",
   "metadata": {},
   "source": [
    "# Exploring Classical and Quantum Fourier Transforms: A Practical Comparative Perspective utilizing IBM Quantum Platform\n",
    "## Description: 2 qubit QFT visualized\n",
    "## Author: Mateusz Szczepański\n",
    "### File: 2_Qubit.ipynb\n",
    "#### Date: 05.09.2023"
   ]
  },
  {
   "cell_type": "code",
   "execution_count": 1,
   "id": "73d26972-7117-4766-86f7-f99fcc13b439",
   "metadata": {},
   "outputs": [],
   "source": [
    "from qiskit import QuantumRegister, ClassicalRegister\n",
    "from qiskit import QuantumCircuit, execute\n",
    "from qiskit.circuit.library import QFT\n",
    "import numpy as np\n",
    "\n",
    "from qiskit_ibm_runtime import QiskitRuntimeService, Sampler, \\\n",
    "Estimator, Session, Options\n",
    "\n",
    "service = QiskitRuntimeService(channel='ibm_quantum')"
   ]
  },
  {
   "cell_type": "code",
   "execution_count": 3,
   "id": "80689fd8-a119-465c-bd39-5030f87438a3",
   "metadata": {
    "tags": []
   },
   "outputs": [
    {
     "data": {
      "image/png": "[encoded data removed]",
      "text/plain": [
       "<Figure size 538.128x284.278 with 1 Axes>"
      ]
     },
     "execution_count": 3,
     "metadata": {},
     "output_type": "execute_result"
    }
   ],
   "source": [
    "q = QuantumRegister(2,'q')   # Initialization of quantum registers\n",
    "c = ClassicalRegister(2,'c') # Initialization of classical registers\n",
    "\n",
    "qc = QuantumCircuit(q,c)     # Initialization of quantum circuit\n",
    "qc.h(0)\n",
    "qc.cp(np.pi/2, 0, 1)\n",
    "qc.h(1)\n",
    "qc.swap(0,1)\n",
    "qc.draw('mpl')#.savefig('/home/jovyan/My_Notebooks/2_Qubit.png')"
   ]
  }
 ],
 "metadata": {
  "kernelspec": {
   "display_name": "Python 3 (ipykernel)",
   "language": "python",
   "name": "python3"
  },
  "language_info": {
   "codemirror_mode": {
    "name": "ipython",
    "version": 3
   },
   "file_extension": ".py",
   "mimetype": "text/x-python",
   "name": "python",
   "nbconvert_exporter": "python",
   "pygments_lexer": "ipython3",
   "version": "3.10.8"
  },
  "widgets": {
   "application/vnd.jupyter.widget-state+json": {
    "state": {},
    "version_major": 2,
    "version_minor": 0
   }
  }
 },
 "nbformat": 4,
 "nbformat_minor": 5
}
