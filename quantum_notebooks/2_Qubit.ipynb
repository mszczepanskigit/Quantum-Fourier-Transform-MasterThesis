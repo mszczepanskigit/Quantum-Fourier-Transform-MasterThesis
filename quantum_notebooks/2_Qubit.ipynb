{
 "cells": [
  {
   "cell_type": "code",
   "execution_count": 3,
   "id": "73d26972-7117-4766-86f7-f99fcc13b439",
   "metadata": {},
   "outputs": [],
   "source": [
    "from qiskit import QuantumRegister, ClassicalRegister\n",
    "from qiskit import QuantumCircuit, execute\n",
    "from qiskit.circuit.library import QFT\n",
    "import numpy as np\n",
    "\n",
    "from qiskit_ibm_runtime import QiskitRuntimeService, Sampler, \\\n",
    "Estimator, Session, Options\n",
    "\n",
    "service = QiskitRuntimeService(channel='ibm_quantum')"
   ]
  },
  {
   "cell_type": "code",
   "execution_count": 8,
   "id": "80689fd8-a119-465c-bd39-5030f87438a3",
   "metadata": {
    "tags": []
   },
   "outputs": [],
   "source": [
    "q = QuantumRegister(2,'q')   # Initialization of quantum registers\n",
    "c = ClassicalRegister(2,'c') # Initialization of classical registers\n",
    "\n",
    "qc = QuantumCircuit(q,c)     # Initialization of quantum circuit\n",
    "qc.h(0)\n",
    "qc.cp(np.pi/2, 0, 1)\n",
    "qc.h(1)\n",
    "qc.swap(0,1)\n",
    "qc.draw('mpl').savefig('/home/jovyan/My_Notebooks/2_Qubit.png')"
   ]
  }
 ],
 "metadata": {
  "kernelspec": {
   "display_name": "Python 3 (ipykernel)",
   "language": "python",
   "name": "python3"
  },
  "language_info": {
   "codemirror_mode": {
    "name": "ipython",
    "version": 3
   },
   "file_extension": ".py",
   "mimetype": "text/x-python",
   "name": "python",
   "nbconvert_exporter": "python",
   "pygments_lexer": "ipython3",
   "version": "3.10.8"
  },
  "widgets": {
   "application/vnd.jupyter.widget-state+json": {
    "state": {
     "05435c7ed0e24b52b29d2f8080e67bdb": {
      "model_module": "@jupyter-widgets/controls",
      "model_module_version": "2.0.0",
      "model_name": "HTMLModel",
      "state": {
       "layout": "IPY_MODEL_e2257a71188d405c8f86234022ed01b9",
       "style": "IPY_MODEL_dc11f850163c4399915a7a84042af36b",
       "value": "<h5>Job ID</h5>"
      }
     },
     "18428fce958648f38c6339d86a3c1931": {
      "model_module": "@jupyter-widgets/controls",
      "model_module_version": "2.0.0",
      "model_name": "HTMLStyleModel",
      "state": {
       "description_width": "",
       "font_size": null,
       "text_color": null
      }
     },
     "19dec1fa47b74ea896430298982f0e6a": {
      "model_module": "@jupyter-widgets/base",
      "model_module_version": "2.0.0",
      "model_name": "LayoutModel",
      "state": {
       "width": "95px"
      }
     },
     "1f713c7fe4964a629ddf3bb517a95a20": {
      "model_module": "@jupyter-widgets/controls",
      "model_module_version": "2.0.0",
      "model_name": "GridBoxModel",
      "state": {
       "children": [
        "IPY_MODEL_5bce36c888a84c81bfbc9a7cf1f1d59b"
       ],
       "layout": "IPY_MODEL_f8df5d1836754350b7be9afa0c8f9116"
      }
     },
     "1fd83e83c6644717b3cd8ed62caa6b1c": {
      "model_module": "@jupyter-widgets/base",
      "model_module_version": "2.0.0",
      "model_name": "LayoutModel",
      "state": {
       "width": "70px"
      }
     },
     "282bdfaeab25455c82d96df57526e2ce": {
      "model_module": "@jupyter-widgets/controls",
      "model_module_version": "2.0.0",
      "model_name": "HTMLStyleModel",
      "state": {
       "description_width": "",
       "font_size": null,
       "text_color": null
      }
     },
     "3dac1a223e8247098f1ccb892cdaa456": {
      "model_module": "@jupyter-widgets/base",
      "model_module_version": "2.0.0",
      "model_name": "LayoutModel",
      "state": {}
     },
     "5bce36c888a84c81bfbc9a7cf1f1d59b": {
      "model_module": "@jupyter-widgets/controls",
      "model_module_version": "2.0.0",
      "model_name": "ButtonModel",
      "state": {
       "button_style": "primary",
       "description": "Clear",
       "layout": "IPY_MODEL_f5e3be10841f42b0b20950342f4161b3",
       "style": "IPY_MODEL_770f250f0e364ad0abc3eb7e5ff3c3d9",
       "tooltip": null
      }
     },
     "61c5dc97cee245ee945f65163a66a34d": {
      "model_module": "@jupyter-widgets/controls",
      "model_module_version": "2.0.0",
      "model_name": "HTMLStyleModel",
      "state": {
       "description_width": "",
       "font_size": null,
       "text_color": null
      }
     },
     "6b253f9d969e4788b2bdc8dbd19819be": {
      "model_module": "@jupyter-widgets/controls",
      "model_module_version": "2.0.0",
      "model_name": "HTMLStyleModel",
      "state": {
       "description_width": "",
       "font_size": null,
       "text_color": null
      }
     },
     "770f250f0e364ad0abc3eb7e5ff3c3d9": {
      "model_module": "@jupyter-widgets/controls",
      "model_module_version": "2.0.0",
      "model_name": "ButtonStyleModel",
      "state": {
       "font_family": null,
       "font_size": null,
       "font_style": null,
       "font_variant": null,
       "font_weight": null,
       "text_color": null,
       "text_decoration": null
      }
     },
     "85547225b2554f38bdbfba78d0b96f9c": {
      "model_module": "@jupyter-widgets/controls",
      "model_module_version": "2.0.0",
      "model_name": "HTMLModel",
      "state": {
       "layout": "IPY_MODEL_b55c20d104df4e9784b68ff0d10d6fa9",
       "style": "IPY_MODEL_18428fce958648f38c6339d86a3c1931",
       "value": "<h5>Backend</h5>"
      }
     },
     "8f0868b3ae914d39ad9f2079168f0cba": {
      "model_module": "@jupyter-widgets/controls",
      "model_module_version": "2.0.0",
      "model_name": "HTMLModel",
      "state": {
       "layout": "IPY_MODEL_19dec1fa47b74ea896430298982f0e6a",
       "style": "IPY_MODEL_282bdfaeab25455c82d96df57526e2ce",
       "value": "<h5>Status</h5>"
      }
     },
     "a32843dd891941ba8e624050131a2d47": {
      "model_module": "@jupyter-widgets/controls",
      "model_module_version": "2.0.0",
      "model_name": "HTMLStyleModel",
      "state": {
       "description_width": "",
       "font_size": null,
       "text_color": null
      }
     },
     "af9828d62fe2485fb1f4aa11a70c43f7": {
      "model_module": "@jupyter-widgets/controls",
      "model_module_version": "2.0.0",
      "model_name": "HTMLModel",
      "state": {
       "layout": "IPY_MODEL_3dac1a223e8247098f1ccb892cdaa456",
       "style": "IPY_MODEL_a32843dd891941ba8e624050131a2d47",
       "value": "<h5>Message</h5>"
      }
     },
     "b55c20d104df4e9784b68ff0d10d6fa9": {
      "model_module": "@jupyter-widgets/base",
      "model_module_version": "2.0.0",
      "model_name": "LayoutModel",
      "state": {
       "width": "145px"
      }
     },
     "bedf5c1d112441c5b1f8b4a4e8d7923e": {
      "model_module": "@jupyter-widgets/controls",
      "model_module_version": "2.0.0",
      "model_name": "HTMLModel",
      "state": {
       "layout": "IPY_MODEL_f65e45091f2a4155958dc783c745c4de",
       "style": "IPY_MODEL_61c5dc97cee245ee945f65163a66a34d",
       "value": "<p style='font-family: IBM Plex Sans, Arial, Helvetica, sans-serif; font-size: 20px; font-weight: medium;'>Circuit Properties</p>"
      }
     },
     "cb0da96307d743f8b25700605468a182": {
      "model_module": "@jupyter-widgets/controls",
      "model_module_version": "2.0.0",
      "model_name": "HBoxModel",
      "state": {
       "children": [
        "IPY_MODEL_05435c7ed0e24b52b29d2f8080e67bdb",
        "IPY_MODEL_85547225b2554f38bdbfba78d0b96f9c",
        "IPY_MODEL_8f0868b3ae914d39ad9f2079168f0cba",
        "IPY_MODEL_f4965bcd7c9e48a6a69e070dbe6a26bc",
        "IPY_MODEL_af9828d62fe2485fb1f4aa11a70c43f7"
       ],
       "layout": "IPY_MODEL_e019df4032d44d3fb476d6a5d3c3024e"
      }
     },
     "dc11f850163c4399915a7a84042af36b": {
      "model_module": "@jupyter-widgets/controls",
      "model_module_version": "2.0.0",
      "model_name": "HTMLStyleModel",
      "state": {
       "description_width": "",
       "font_size": null,
       "text_color": null
      }
     },
     "e019df4032d44d3fb476d6a5d3c3024e": {
      "model_module": "@jupyter-widgets/base",
      "model_module_version": "2.0.0",
      "model_name": "LayoutModel",
      "state": {
       "margin": "0px 0px 0px 37px",
       "width": "600px"
      }
     },
     "e2257a71188d405c8f86234022ed01b9": {
      "model_module": "@jupyter-widgets/base",
      "model_module_version": "2.0.0",
      "model_name": "LayoutModel",
      "state": {
       "width": "190px"
      }
     },
     "f4965bcd7c9e48a6a69e070dbe6a26bc": {
      "model_module": "@jupyter-widgets/controls",
      "model_module_version": "2.0.0",
      "model_name": "HTMLModel",
      "state": {
       "layout": "IPY_MODEL_1fd83e83c6644717b3cd8ed62caa6b1c",
       "style": "IPY_MODEL_6b253f9d969e4788b2bdc8dbd19819be",
       "value": "<h5>Queue</h5>"
      }
     },
     "f5e3be10841f42b0b20950342f4161b3": {
      "model_module": "@jupyter-widgets/base",
      "model_module_version": "2.0.0",
      "model_name": "LayoutModel",
      "state": {
       "grid_area": "right",
       "padding": "0px 0px 0px 0px",
       "width": "70px"
      }
     },
     "f65e45091f2a4155958dc783c745c4de": {
      "model_module": "@jupyter-widgets/base",
      "model_module_version": "2.0.0",
      "model_name": "LayoutModel",
      "state": {
       "margin": "0px 0px 10px 0px"
      }
     },
     "f8df5d1836754350b7be9afa0c8f9116": {
      "model_module": "@jupyter-widgets/base",
      "model_module_version": "2.0.0",
      "model_name": "LayoutModel",
      "state": {
       "grid_template_areas": "\n                                       \". . . . right \"\n                                        ",
       "grid_template_columns": "20% 20% 20% 20% 20%",
       "width": "100%"
      }
     }
    },
    "version_major": 2,
    "version_minor": 0
   }
  }
 },
 "nbformat": 4,
 "nbformat_minor": 5
}
