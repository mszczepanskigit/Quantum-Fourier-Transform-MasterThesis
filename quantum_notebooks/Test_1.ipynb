{
 "cells": [
  {
   "cell_type": "code",
   "execution_count": 1,
   "id": "e6b46af2-2053-4cfe-a42e-3d3f5e151809",
   "metadata": {},
   "outputs": [],
   "source": [
    "from qiskit import *\n",
    "from qiskit.circuit.library import QFT\n",
    "import numpy as np\n",
    "\n",
    "from qiskit_ibm_runtime import QiskitRuntimeService, Sampler, \\\n",
    "Estimator, Session, Options\n",
    "\n",
    "service = QiskitRuntimeService(channel='ibm_quantum')"
   ]
  },
  {
   "cell_type": "code",
   "execution_count": 2,
   "id": "e29f4bf6-3731-4d6f-b11e-b1350c78d492",
   "metadata": {
    "tags": []
   },
   "outputs": [
    {
     "data": {
      "image/png": "[encoded data removed]",
      "text/plain": [
       "<Figure size 789.163x451.5 with 1 Axes>"
      ]
     },
     "execution_count": 2,
     "metadata": {},
     "output_type": "execute_result"
    }
   ],
   "source": [
    "q = QuantumRegister(4,'q') \n",
    "c = ClassicalRegister(4,'c') \n",
    "qc = QuantumCircuit(q,c)\n",
    "x = [4*k/16 for k in range(16)]\n",
    "psi = np.sin(2*np.array(x)*np.pi)\n",
    "psi[5:8] = 0\n",
    "psi = psi/np.linalg.norm(psi)\n",
    "qc.initialize(psi)\n",
    "qft = QFT(num_qubits=4, do_swaps=True).to_gate()\n",
    "qc.append(qft, qargs=[0, 1, 2, 3])\n",
    "qc.draw('mpl')\n",
    "#qc.draw('mpl').savefig('/home/jovyan/My_Notebooks/Images/qTest_1_0.png')"
   ]
  },
  {
   "cell_type": "code",
   "execution_count": 3,
   "id": "126a2747-656b-4c4b-97fe-d666ca4e3628",
   "metadata": {
    "tags": []
   },
   "outputs": [
    {
     "name": "stdout",
     "output_type": "stream",
     "text": [
      "Wektor stanu: [ 0.    +0.j     -0.0552-0.0552j  0.1443-0.j     -0.1334+0.1334j\n",
      " -0.    +0.6124j  0.1334+0.1334j -0.1443+0.j      0.0552-0.0552j\n",
      " -0.    -0.j      0.0552+0.0552j -0.1443-0.j      0.1334-0.1334j\n",
      " -0.    -0.6124j -0.1334-0.1334j  0.1443-0.j     -0.0552+0.0552j]\n"
     ]
    },
    {
     "name": "stderr",
     "output_type": "stream",
     "text": [
      "/tmp/ipykernel_93/2201259805.py:4: DeprecationWarning: Using a qobj for run() is deprecated as of qiskit-aer 0.9.0 and will be removed no sooner than 3 months from that release date. Transpiled circuits should now be passed directly using `backend.run(circuits, **run_options).\n",
      "  result = simulator.run(job).result()\n"
     ]
    }
   ],
   "source": [
    "simulator = Aer.get_backend('statevector_simulator')\n",
    "compiled_circuit = transpile(qc, simulator)\n",
    "job = assemble(compiled_circuit, shots=1)\n",
    "result = simulator.run(job).result()\n",
    "\n",
    "# Pobranie wektora stanu\n",
    "state_vector = result.get_statevector()\n",
    "\n",
    "print(\"Wektor stanu:\", np.round(state_vector, 4))"
   ]
  },
  {
   "cell_type": "code",
   "execution_count": 4,
   "id": "cf09667e-9020-47fd-89a7-a71325a894cd",
   "metadata": {
    "tags": []
   },
   "outputs": [],
   "source": [
    "import matplotlib.pyplot as plt\n",
    "import matplotlib as mpl\n",
    "import copy as cp\n",
    "mpl.rcParams.update(mpl.rcParamsDefault)"
   ]
  },
  {
   "cell_type": "code",
   "execution_count": 5,
   "id": "8de4f74e-1484-45dd-87c0-0444ff61a5cd",
   "metadata": {
    "tags": []
   },
   "outputs": [],
   "source": [
    "plt.figure(figsize=(9.2, 4.8))\n",
    "plt.scatter([4*k/16 for k in range(16)], np.abs(state_vector), c=\"violet\")\n",
    "plt.title(\"Absolute values of the frequencies after QFT\")\n",
    "plt.xlabel(r\"Frequencies\")\n",
    "plt.ylabel(r\"$|q\\mathcal{F}(\\psi)|$\")\n",
    "plt.savefig('/home/jovyan/My_Notebooks/Images/qTest_1_1.png')"
   ]
  },
  {
   "cell_type": "code",
   "execution_count": 6,
   "id": "3c463c74-5256-4a9e-9ab5-c952f01e84ea",
   "metadata": {
    "tags": []
   },
   "outputs": [
    {
     "name": "stdout",
     "output_type": "stream",
     "text": [
      "[ 0.00000000e+00+0.j          0.00000000e+00+0.j\n",
      "  0.00000000e+00+0.j          0.00000000e+00+0.j\n",
      " -1.01028207e-16+0.70710678j  0.00000000e+00+0.j\n",
      "  0.00000000e+00+0.j          0.00000000e+00+0.j\n",
      "  0.00000000e+00+0.j          0.00000000e+00+0.j\n",
      "  0.00000000e+00+0.j          0.00000000e+00+0.j\n",
      " -6.20601840e-16-0.70710678j  0.00000000e+00+0.j\n",
      "  0.00000000e+00+0.j          0.00000000e+00+0.j        ]\n"
     ]
    }
   ],
   "source": [
    "state_vector2 = np.asarray(cp.copy(state_vector))\n",
    "#print(np.abs(state_vector2))\n",
    "state_vector2[np.abs(state_vector2)<=0.5] = 0\n",
    "state_vector2 = state_vector2/np.linalg.norm(state_vector2)\n",
    "print(state_vector2)"
   ]
  },
  {
   "cell_type": "code",
   "execution_count": 7,
   "id": "00c7d275-2f54-4474-9535-3ae784a19c99",
   "metadata": {
    "tags": []
   },
   "outputs": [],
   "source": [
    "q = QuantumRegister(4,'q') \n",
    "c = ClassicalRegister(4,'c') \n",
    "qc = QuantumCircuit(q,c)\n",
    "x = [4*k/16 for k in range(16)]\n",
    "qpsi = state_vector2\n",
    "qc.initialize(qpsi)\n",
    "qc.barrier()\n",
    "iqft = QFT(num_qubits=4, do_swaps=True, inverse=True).to_gate()\n",
    "qc.append(iqft, qargs=[0, 1, 2, 3])\n",
    "qc.draw('mpl')\n",
    "qc.draw('mpl').savefig('/home/jovyan/My_Notebooks/Images/qTest_1_2.png')"
   ]
  },
  {
   "cell_type": "code",
   "execution_count": 8,
   "id": "ccd16739-e24b-4e6f-b43f-a4cfe42097de",
   "metadata": {
    "tags": []
   },
   "outputs": [
    {
     "name": "stdout",
     "output_type": "stream",
     "text": [
      "Wektor stanu: [-0.    +0.j  0.3536-0.j  0.    -0.j -0.3536+0.j -0.    +0.j  0.3536-0.j\n",
      "  0.    -0.j -0.3536+0.j -0.    +0.j  0.3536-0.j  0.    -0.j -0.3536+0.j\n",
      " -0.    +0.j  0.3536-0.j  0.    -0.j -0.3536+0.j]\n"
     ]
    },
    {
     "name": "stderr",
     "output_type": "stream",
     "text": [
      "/tmp/ipykernel_93/2948363827.py:4: DeprecationWarning: Using a qobj for run() is deprecated as of qiskit-aer 0.9.0 and will be removed no sooner than 3 months from that release date. Transpiled circuits should now be passed directly using `backend.run(circuits, **run_options).\n",
      "  result = simulator.run(job).result()\n"
     ]
    }
   ],
   "source": [
    "simulator = Aer.get_backend('statevector_simulator')\n",
    "compiled_circuit = transpile(qc, simulator)\n",
    "job = assemble(compiled_circuit, shots=1)\n",
    "result = simulator.run(job).result()\n",
    "\n",
    "# Pobranie wektora stanu\n",
    "state_vector3 = result.get_statevector()\n",
    "\n",
    "print(\"Wektor stanu:\", np.round(state_vector3, 4))"
   ]
  },
  {
   "cell_type": "code",
   "execution_count": 10,
   "id": "f55ddaf7-6bb0-417b-8502-36289409f5b6",
   "metadata": {
    "tags": []
   },
   "outputs": [
    {
     "name": "stdout",
     "output_type": "stream",
     "text": [
      "(1-9.797174393178828e-16j)\n"
     ]
    }
   ],
   "source": [
    "print(np.sum(np.array(state_vector3)**2))"
   ]
  },
  {
   "cell_type": "code",
   "execution_count": 40,
   "id": "ad710776-3796-409b-8d28-6d8f9b5e78c9",
   "metadata": {
    "tags": []
   },
   "outputs": [],
   "source": [
    "plt.figure(figsize=(9.2, 4.8))\n",
    "plt.scatter([4*k/16 for k in range(16)], np.real(state_vector3), c=\"violet\")\n",
    "plt.title(r\"Reconstructed signal using QFT\")\n",
    "plt.xlabel(r\"Given nodes $x_k$\")\n",
    "plt.ylabel(r\"Reconstructed values\")\n",
    "plt.savefig('/home/jovyan/My_Notebooks/Images/qTest_1_3.png')"
   ]
  }
 ],
 "metadata": {
  "kernelspec": {
   "display_name": "Python 3 (ipykernel)",
   "language": "python",
   "name": "python3"
  },
  "language_info": {
   "codemirror_mode": {
    "name": "ipython",
    "version": 3
   },
   "file_extension": ".py",
   "mimetype": "text/x-python",
   "name": "python",
   "nbconvert_exporter": "python",
   "pygments_lexer": "ipython3",
   "version": "3.10.8"
  },
  "widgets": {
   "application/vnd.jupyter.widget-state+json": {
    "state": {},
    "version_major": 2,
    "version_minor": 0
   }
  }
 },
 "nbformat": 4,
 "nbformat_minor": 5
}
